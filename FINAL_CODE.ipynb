{
  "nbformat": 4,
  "nbformat_minor": 0,
  "metadata": {
    "colab": {
      "provenance": [],
      "authorship_tag": "ABX9TyNpCLMugV+gHpZNwKbjRhF/",
      "include_colab_link": true
    },
    "kernelspec": {
      "name": "python3",
      "display_name": "Python 3"
    },
    "language_info": {
      "name": "python"
    }
  },
  "cells": [
    {
      "cell_type": "markdown",
      "metadata": {
        "id": "view-in-github",
        "colab_type": "text"
      },
      "source": [
        "<a href=\"https://colab.research.google.com/github/Nikolaiadafs/Fitness-Tracker/blob/main/FINAL_CODE.ipynb\" target=\"_parent\"><img src=\"https://colab.research.google.com/assets/colab-badge.svg\" alt=\"Open In Colab\"/></a>"
      ]
    },
    {
      "cell_type": "code",
      "execution_count": null,
      "metadata": {
        "id": "4mb--5S256bl"
      },
      "outputs": [],
      "source": [
        "class healthfitness:\n",
        "    def __init__(self):\n",
        "        self.activity_log = {}\n",
        "\n",
        "    def log_activity(self, activity, time):\n",
        "        if activity in self.activity_log:\n",
        "            self.activity_log[activity] = time\n",
        "        else:\n",
        "            self.activity_log[activity] = time\n",
        "\n",
        "    def view_log(self):\n",
        "        for activity, duration in self.activity_log.items():\n",
        "            print(f\"{activity}: {duration} minutes\")\n",
        "\n",
        "    def total_duration(self):\n",
        "        total = 0\n",
        "        for duration in self.activity_log.values():\n",
        "            total += duration\n",
        "        return total\n",
        "    def calculate_bmi(self, weight, height):\n",
        "        if weight <=0 or height <= 0:\n",
        "            return \"N/A\"\n",
        "        bmi = weight / (height/100)**2\n",
        "        if bmi < 18.5:\n",
        "            return \"Underweight\"\n",
        "        elif bmi < 25:\n",
        "            return \"Normal\"\n",
        "        elif bmi < 30:\n",
        "            return \"Overweight\"\n",
        "        else:\n",
        "            return \"Obese\"\n",
        "\n",
        "tracker = healthfitness()\n",
        "\n",
        "while True:\n",
        "    activity = input(\"Enter the activity you want to add: \")\n",
        "    while True:\n",
        "            time = int(input(\"Enter duration of the activity: \"))\n",
        "            break\n",
        "    tracker.log_activity(activity, time)\n",
        "    if input(\"Do you want to log another workout? (yes/no)\") in ['no','n']:\n",
        "        break\n",
        "\n",
        "weight = float(input(\"Enter your weight in kgs: \"))\n",
        "height = float(input(\"Enter your height in cm: \"))\n",
        "bmi = tracker.calculate_bmi(weight, height)\n",
        "print(\"Your BMI is: \", bmi)\n",
        "tracker.view_log()\n",
        "print(\"Total duration:\",tracker.total_duration())\n",
        "\n",
        "class Meal:\n",
        "\n",
        "    def __init__(self):\n",
        "        self.meals = []\n",
        "   \n",
        "    def add_meal(self):\n",
        "        name = input(\"enter name of meal: \")\n",
        "        while True:\n",
        "                calories = int(input(\"Enter number of calories: \"))\n",
        "                break\n",
        "        while True:\n",
        "                print(protein = int(input(\"Enter protein content of meal in grams: \")))\n",
        "                break\n",
        "        while True:\n",
        "                fat = int(input(\"Enter fat content of meal in grams: \"))\n",
        "                break\n",
        "        meal = Meal(name,calories,protein,fat)\n",
        "        self.meals.append(meal)\n",
        "\n",
        "    def view_log(self):\n",
        "        for meal in self.meals:\n",
        "            print(f\"{meal.name}, {meal.calories}, {meal.protein}, {meal.fat}\")\n",
        "\n",
        "tracker = Meal()\n",
        "\n",
        "while True:\n",
        "    tracker.add_meal()\n",
        "    if input(\"Do you want to log another meal? (yes/no)\") in ['no','n']:\n",
        "        break\n",
        "\n",
        "tracker.view_log()\n"
      ]
    }
  ]
}